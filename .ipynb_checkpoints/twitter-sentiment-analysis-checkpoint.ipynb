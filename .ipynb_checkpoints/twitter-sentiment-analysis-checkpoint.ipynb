{
 "cells": [
  {
   "cell_type": "markdown",
   "metadata": {},
   "source": [
    "<h1 style=\"text-align: center\">Twitter Sentiment Analysis</h1>"
   ]
  },
  {
   "cell_type": "markdown",
   "metadata": {},
   "source": [
    "![](assets/sentiment.png)"
   ]
  },
  {
   "cell_type": "markdown",
   "metadata": {},
   "source": [
    "<br/>  \n",
    "### [Everything You Need to Know about Sentiment Analysis](https://monkeylearn.com/sentiment-analysis/)\n",
    " \n",
    "### [Everything You Need to Know about the methods of Sentiment Analysis](https://www.analyticsvidhya.com/blog/2018/02/the-different-methods-deal-text-data-predictive-python/)  \n",
    "<br/>  "
   ]
  },
  {
   "cell_type": "markdown",
   "metadata": {},
   "source": [
    "## Twitter datas are too unsructured for machine learning. \n",
    "### We have to prepare them to achieve better accuracy at prediction\n",
    "<br/>"
   ]
  },
  {
   "cell_type": "markdown",
   "metadata": {},
   "source": [
    "#### First install required packages (Make sure you have `pip` installed)"
   ]
  },
  {
   "cell_type": "code",
   "execution_count": 1,
   "metadata": {
    "ExecuteTime": {
     "end_time": "2019-07-12T10:46:26.227221Z",
     "start_time": "2019-07-12T10:46:20.596944Z"
    }
   },
   "outputs": [
    {
     "name": "stdout",
     "output_type": "stream",
     "text": [
      "Requirement already satisfied: scipy in c:\\users\\gunjan\\anaconda3\\lib\\site-packages (1.2.1)\n",
      "Requirement already satisfied: wordcloud in c:\\users\\gunjan\\anaconda3\\lib\\site-packages (1.5.0)\n",
      "Requirement already satisfied: nltk in c:\\users\\gunjan\\anaconda3\\lib\\site-packages (3.4.3)\n",
      "Requirement already satisfied: seaborn in c:\\users\\gunjan\\anaconda3\\lib\\site-packages (0.9.0)\n",
      "Requirement already satisfied: textblob in c:\\users\\gunjan\\appdata\\roaming\\python\\python36\\site-packages (0.15.3)\n",
      "Requirement already satisfied: numpy>=1.6.1 in c:\\users\\gunjan\\anaconda3\\lib\\site-packages (from wordcloud) (1.16.4)\n",
      "Requirement already satisfied: pillow in c:\\users\\gunjan\\anaconda3\\lib\\site-packages (from wordcloud) (6.0.0)\n",
      "Requirement already satisfied: six in c:\\users\\gunjan\\anaconda3\\lib\\site-packages (from nltk) (1.12.0)\n",
      "Requirement already satisfied: pandas>=0.15.2 in c:\\users\\gunjan\\anaconda3\\lib\\site-packages (from seaborn) (0.24.2)\n",
      "Requirement already satisfied: matplotlib>=1.4.3 in c:\\users\\gunjan\\anaconda3\\lib\\site-packages (from seaborn) (3.1.0)\n",
      "Requirement already satisfied: pytz>=2011k in c:\\users\\gunjan\\anaconda3\\lib\\site-packages (from pandas>=0.15.2->seaborn) (2019.1)\n",
      "Requirement already satisfied: python-dateutil>=2.5.0 in c:\\users\\gunjan\\anaconda3\\lib\\site-packages (from pandas>=0.15.2->seaborn) (2.8.0)\n",
      "Requirement already satisfied: pyparsing!=2.0.4,!=2.1.2,!=2.1.6,>=2.0.1 in c:\\users\\gunjan\\anaconda3\\lib\\site-packages (from matplotlib>=1.4.3->seaborn) (2.4.0)\n",
      "Requirement already satisfied: cycler>=0.10 in c:\\users\\gunjan\\anaconda3\\lib\\site-packages (from matplotlib>=1.4.3->seaborn) (0.10.0)\n",
      "Requirement already satisfied: kiwisolver>=1.0.1 in c:\\users\\gunjan\\anaconda3\\lib\\site-packages (from matplotlib>=1.4.3->seaborn) (1.1.0)\n",
      "Requirement already satisfied: setuptools in c:\\users\\gunjan\\anaconda3\\lib\\site-packages (from kiwisolver>=1.0.1->matplotlib>=1.4.3->seaborn) (41.0.1)\n"
     ]
    }
   ],
   "source": [
    "! pip install --user scipy wordcloud nltk seaborn textblob"
   ]
  },
  {
   "cell_type": "markdown",
   "metadata": {},
   "source": [
    "#### Import the packages"
   ]
  },
  {
   "cell_type": "code",
   "execution_count": 2,
   "metadata": {
    "ExecuteTime": {
     "end_time": "2019-07-12T10:46:43.238121Z",
     "start_time": "2019-07-12T10:46:26.233172Z"
    }
   },
   "outputs": [
    {
     "name": "stderr",
     "output_type": "stream",
     "text": [
      "[nltk_data] Downloading package wordnet to\n",
      "[nltk_data]     C:\\Users\\Gunjan\\AppData\\Roaming\\nltk_data...\n",
      "[nltk_data]   Package wordnet is already up-to-date!\n"
     ]
    }
   ],
   "source": [
    "import numpy as np\n",
    "import pandas as pd\n",
    "import json, nltk\n",
    "import matplotlib.pyplot as plt\n",
    "from wordcloud import WordCloud\n",
    "import seaborn as sns\n",
    "# nltk.download('wordnet')   # for Lemmatization\n",
    "\n",
    "%matplotlib inline"
   ]
  },
  {
   "cell_type": "markdown",
   "metadata": {},
   "source": [
    "###### The dataset is not in \"UTF-8\" encoding"
   ]
  },
  {
   "cell_type": "code",
   "execution_count": 3,
   "metadata": {
    "ExecuteTime": {
     "end_time": "2019-07-12T10:46:43.633612Z",
     "start_time": "2019-07-12T10:46:43.245069Z"
    }
   },
   "outputs": [],
   "source": [
    "total_data = pd.read_csv(\"dataset/train.csv\", encoding=\"ISO-8859-1\")"
   ]
  },
  {
   "cell_type": "markdown",
   "metadata": {},
   "source": [
    "##### Import [Contractions](https://stackoverflow.com/a/19794953/8141330)"
   ]
  },
  {
   "cell_type": "code",
   "execution_count": 4,
   "metadata": {
    "ExecuteTime": {
     "end_time": "2019-07-12T10:46:43.672879Z",
     "start_time": "2019-07-12T10:46:43.637585Z"
    }
   },
   "outputs": [],
   "source": [
    "with open('assets/contractions.json', 'r') as f:\n",
    "    contractions_dict = json.load(f)\n",
    "contractions = contractions_dict['contractions']"
   ]
  },
  {
   "cell_type": "markdown",
   "metadata": {},
   "source": [
    "###### Setting Pandas DataFrame to show non-truncated table"
   ]
  },
  {
   "cell_type": "code",
   "execution_count": 5,
   "metadata": {
    "ExecuteTime": {
     "end_time": "2019-07-12T10:46:43.680842Z",
     "start_time": "2019-07-12T10:46:43.675782Z"
    }
   },
   "outputs": [],
   "source": [
    "pd.set_option('display.max_colwidth', -1)"
   ]
  },
  {
   "cell_type": "markdown",
   "metadata": {},
   "source": [
    "##### Printing the dataset"
   ]
  },
  {
   "cell_type": "code",
   "execution_count": 6,
   "metadata": {
    "ExecuteTime": {
     "end_time": "2019-07-12T10:46:43.722824Z",
     "start_time": "2019-07-12T10:46:43.685200Z"
    },
    "scrolled": true
   },
   "outputs": [
    {
     "data": {
      "text/html": [
       "<div>\n",
       "<style scoped>\n",
       "    .dataframe tbody tr th:only-of-type {\n",
       "        vertical-align: middle;\n",
       "    }\n",
       "\n",
       "    .dataframe tbody tr th {\n",
       "        vertical-align: top;\n",
       "    }\n",
       "\n",
       "    .dataframe thead th {\n",
       "        text-align: right;\n",
       "    }\n",
       "</style>\n",
       "<table border=\"1\" class=\"dataframe\">\n",
       "  <thead>\n",
       "    <tr style=\"text-align: right;\">\n",
       "      <th></th>\n",
       "      <th>ItemID</th>\n",
       "      <th>Sentiment</th>\n",
       "      <th>SentimentText</th>\n",
       "    </tr>\n",
       "  </thead>\n",
       "  <tbody>\n",
       "    <tr>\n",
       "      <th>0</th>\n",
       "      <td>1</td>\n",
       "      <td>0</td>\n",
       "      <td>is so sad for my APL friend.............</td>\n",
       "    </tr>\n",
       "    <tr>\n",
       "      <th>1</th>\n",
       "      <td>2</td>\n",
       "      <td>0</td>\n",
       "      <td>I missed the New Moon trailer...</td>\n",
       "    </tr>\n",
       "    <tr>\n",
       "      <th>2</th>\n",
       "      <td>3</td>\n",
       "      <td>1</td>\n",
       "      <td>omg its already 7:30 :O</td>\n",
       "    </tr>\n",
       "    <tr>\n",
       "      <th>3</th>\n",
       "      <td>4</td>\n",
       "      <td>0</td>\n",
       "      <td>.. Omgaga. Im sooo  im gunna CRy. I've been at this dentist since 11.. I was suposed 2 just get a crown put on (30mins)...</td>\n",
       "    </tr>\n",
       "    <tr>\n",
       "      <th>4</th>\n",
       "      <td>5</td>\n",
       "      <td>0</td>\n",
       "      <td>i think mi bf is cheating on me!!!       T_T</td>\n",
       "    </tr>\n",
       "  </tbody>\n",
       "</table>\n",
       "</div>"
      ],
      "text/plain": [
       "   ItemID  Sentiment  \\\n",
       "0  1       0           \n",
       "1  2       0           \n",
       "2  3       1           \n",
       "3  4       0           \n",
       "4  5       0           \n",
       "\n",
       "                                                                                                                          SentimentText  \n",
       "0                       is so sad for my APL friend.............                                                                         \n",
       "1                     I missed the New Moon trailer...                                                                                   \n",
       "2                omg its already 7:30 :O                                                                                                 \n",
       "3            .. Omgaga. Im sooo  im gunna CRy. I've been at this dentist since 11.. I was suposed 2 just get a crown put on (30mins)...  \n",
       "4           i think mi bf is cheating on me!!!       T_T                                                                                 "
      ]
     },
     "execution_count": 6,
     "metadata": {},
     "output_type": "execute_result"
    }
   ],
   "source": [
    "total_data.head()"
   ]
  },
  {
   "cell_type": "markdown",
   "metadata": {},
   "source": [
    "##### Taking column names into variables"
   ]
  },
  {
   "cell_type": "code",
   "execution_count": 7,
   "metadata": {
    "ExecuteTime": {
     "end_time": "2019-07-12T10:46:43.734727Z",
     "start_time": "2019-07-12T10:46:43.726793Z"
    },
    "scrolled": false
   },
   "outputs": [
    {
     "data": {
      "text/plain": [
       "('SentimentText', 'Sentiment')"
      ]
     },
     "execution_count": 7,
     "metadata": {},
     "output_type": "execute_result"
    }
   ],
   "source": [
    "tweet = total_data.columns.values[2]\n",
    "sentiment = total_data.columns.values[1]\n",
    "tweet, sentiment"
   ]
  },
  {
   "cell_type": "code",
   "execution_count": 8,
   "metadata": {
    "ExecuteTime": {
     "end_time": "2019-07-12T10:46:43.772975Z",
     "start_time": "2019-07-12T10:46:43.741176Z"
    },
    "scrolled": true
   },
   "outputs": [
    {
     "name": "stdout",
     "output_type": "stream",
     "text": [
      "<class 'pandas.core.frame.DataFrame'>\n",
      "RangeIndex: 99989 entries, 0 to 99988\n",
      "Data columns (total 3 columns):\n",
      "ItemID           99989 non-null int64\n",
      "Sentiment        99989 non-null int64\n",
      "SentimentText    99989 non-null object\n",
      "dtypes: int64(2), object(1)\n",
      "memory usage: 2.3+ MB\n"
     ]
    }
   ],
   "source": [
    "total_data.info()"
   ]
  },
  {
   "cell_type": "markdown",
   "metadata": {},
   "source": [
    "<br/>\n",
    "\n",
    "# 1)  Preprocessing"
   ]
  },
  {
   "cell_type": "markdown",
   "metadata": {},
   "source": [
    "* **Convert every tweets to lower case**\n",
    "* **Remove Twitter username**\n",
    "* **Remove punctuations, numbers and special characters**\n",
    "* **Convert more than 2 letter repetitions to 2 letter ( example (wooooooow --> woow))**\n",
    "* **Remove extra spaces**\n",
    "* **Remove URLs**\n",
    "* **Emoji analysis**\n",
    "* **Handle contractions words**\n",
    "    - **\" can't \" >> \" can not \"**\n",
    "    - **\" won't \" >> \" will not \"**\n",
    "    - **\" should't \" >> \" should not \"**\n",
    "* **Tokenization**\n",
    "* **(Optional) Remove [Stop words](https://www.geeksforgeeks.org/removing-stop-words-nltk-python/)**\n",
    "* **(Optional) Text Normalization ([Stemming](https://www.geeksforgeeks.org/python-stemming-words-with-nltk/) / [Lemmatization](https://www.geeksforgeeks.org/python-lemmatization-with-nltk/))**"
   ]
  },
  {
   "cell_type": "markdown",
   "metadata": {
    "ExecuteTime": {
     "end_time": "2019-07-06T16:59:11.689682Z",
     "start_time": "2019-07-06T16:59:11.341084Z"
    }
   },
   "source": [
    "`check this to see `**[Live twitter emoji usage](https://emojitracker.com/)**` (the webpage is heroku backed, so it is safe)`"
   ]
  },
  {
   "cell_type": "markdown",
   "metadata": {},
   "source": [
    "`Check this `**[Stackoverflow answer](https://stackoverflow.com/a/43023503/8141330)**` to know how contraction dictionary of shortened words can be done`"
   ]
  },
  {
   "cell_type": "markdown",
   "metadata": {},
   "source": [
    "`check this `**[Stackexchange answer](https://datascience.stackexchange.com/questions/15765/nlp-why-is-not-a-stop-word)**` to know why we have to modify stop words`"
   ]
  },
  {
   "cell_type": "markdown",
   "metadata": {},
   "source": [
    "`check this `**[Stop words for sentiment analysis research paper](http://www.lrec-conf.org/proceedings/lrec2014/pdf/292_Paper.pdf)**` to know why we need specific stop words`"
   ]
  },
  {
   "cell_type": "markdown",
   "metadata": {},
   "source": [
    "\n",
    "`Problem: This is dataset specific. As this is not in unicode, every (') is replaced with (&quot;) . Click this ` **[Stackoverflow anwser](https://stackoverflow.com/questions/24602154/explain-what-quot-means)** ` to see in details.`"
   ]
  },
  {
   "cell_type": "markdown",
   "metadata": {},
   "source": [
    "##### Define a function which handles emoji classifications"
   ]
  },
  {
   "cell_type": "code",
   "execution_count": 9,
   "metadata": {
    "ExecuteTime": {
     "end_time": "2019-07-12T10:46:43.782839Z",
     "start_time": "2019-07-12T10:46:43.776392Z"
    }
   },
   "outputs": [],
   "source": [
    "def emoji(tweet):\n",
    "    # Smile -- :), : ), :-), (:, ( :, (-:, :') , :O\n",
    "    tweet = re.sub(r'(:\\s?\\)|:-\\)|\\(\\s?:|\\(-:|:\\'\\)|:O)', ' positiveemoji ', tweet)\n",
    "    # Laugh -- :D, : D, :-D, xD, x-D, XD, X-D\n",
    "    tweet = re.sub(r'(:\\s?D|:-D|x-?D|X-?D)', ' positiveemoji ', tweet)\n",
    "    # Love -- <3, :*\n",
    "    tweet = re.sub(r'(<3|:\\*)', ' positiveemoji ', tweet)\n",
    "    # Wink -- ;-), ;), ;-D, ;D, (;,  (-; , @-)\n",
    "    tweet = re.sub(r'(;-?\\)|;-?D|\\(-?;|@-\\))', ' positiveemoji ', tweet)\n",
    "    # Sad -- :-(, : (, :(, ):, )-:, :-/ , :-|\n",
    "    tweet = re.sub(r'(:\\s?\\(|:-\\(|\\)\\s?:|\\)-:|:-/|:-\\|)', ' negetiveemoji ', tweet)\n",
    "    # Cry -- :,(, :'(, :\"(\n",
    "    tweet = re.sub(r'(:,\\(|:\\'\\(|:\"\\()', ' negetiveemoji ', tweet)\n",
    "    return tweet\n"
   ]
  },
  {
   "cell_type": "markdown",
   "metadata": {},
   "source": [
    "###### Define a function which will preprocess the tweets"
   ]
  },
  {
   "cell_type": "code",
   "execution_count": 10,
   "metadata": {
    "ExecuteTime": {
     "end_time": "2019-07-12T10:46:43.807667Z",
     "start_time": "2019-07-12T10:46:43.786947Z"
    }
   },
   "outputs": [],
   "source": [
    "import re\n",
    "\n",
    "def process_tweet(tweet):\n",
    "    tweet = tweet.lower()                                             # Lowercases the string\n",
    "    tweet = re.sub('@[^\\s]+', '', tweet)                              # Removes usernames\n",
    "    tweet = re.sub('((www\\.[^\\s]+)|(https?://[^\\s]+))', ' ', tweet)   # Remove URLs\n",
    "    tweet = re.sub(r\"\\d+\", \" \", str(tweet))                           # Removes all digits\n",
    "    tweet = re.sub('&quot;',\" \", tweet)                               # Remove (&quot;) \n",
    "    tweet = emoji(tweet)                                              # Replaces Emojis\n",
    "    tweet = re.sub(r\"\\b[a-zA-Z]\\b\", \"\", str(tweet))                   # Removes all single characters\n",
    "    for word in tweet.split():\n",
    "        if word.lower() in contractions:\n",
    "            tweet = tweet.replace(word, contractions[word.lower()])   # Replaces contractions\n",
    "    tweet = re.sub(r\"[^\\w\\s]\", \" \", str(tweet))                       # Removes all punctuations\n",
    "    tweet = re.sub(r'(.)\\1+', r'\\1\\1', tweet)                         # Convert more than 2 letter repetitions to 2 letter\n",
    "    tweet = re.sub(r\"\\s+\", \" \", str(tweet))                           # Replaces double spaces with single space    \n",
    "    return tweet"
   ]
  },
  {
   "cell_type": "markdown",
   "metadata": {},
   "source": [
    "###### Now make a new column for side by side comparison of new tweets vs old tweets"
   ]
  },
  {
   "cell_type": "markdown",
   "metadata": {},
   "source": [
    "`Check this `**[Stackoverflow answer](https://stackoverflow.com/a/52674448/8141330)**` to know how to loop faster in python`"
   ]
  },
  {
   "cell_type": "code",
   "execution_count": 11,
   "metadata": {
    "ExecuteTime": {
     "end_time": "2019-07-12T10:46:53.216289Z",
     "start_time": "2019-07-12T10:46:43.811606Z"
    },
    "scrolled": true
   },
   "outputs": [],
   "source": [
    "total_data['processed_tweet'] = np.vectorize(process_tweet)(total_data[tweet])"
   ]
  },
  {
   "cell_type": "markdown",
   "metadata": {
    "ExecuteTime": {
     "end_time": "2019-07-06T14:50:05.392274Z",
     "start_time": "2019-07-06T14:50:05.387603Z"
    }
   },
   "source": [
    "###### Let's compare unprocessed tweets with the processed one"
   ]
  },
  {
   "cell_type": "code",
   "execution_count": 12,
   "metadata": {
    "ExecuteTime": {
     "end_time": "2019-07-12T10:46:53.246073Z",
     "start_time": "2019-07-12T10:46:53.221250Z"
    },
    "scrolled": false
   },
   "outputs": [
    {
     "data": {
      "text/html": [
       "<div>\n",
       "<style scoped>\n",
       "    .dataframe tbody tr th:only-of-type {\n",
       "        vertical-align: middle;\n",
       "    }\n",
       "\n",
       "    .dataframe tbody tr th {\n",
       "        vertical-align: top;\n",
       "    }\n",
       "\n",
       "    .dataframe thead th {\n",
       "        text-align: right;\n",
       "    }\n",
       "</style>\n",
       "<table border=\"1\" class=\"dataframe\">\n",
       "  <thead>\n",
       "    <tr style=\"text-align: right;\">\n",
       "      <th></th>\n",
       "      <th>ItemID</th>\n",
       "      <th>Sentiment</th>\n",
       "      <th>SentimentText</th>\n",
       "      <th>processed_tweet</th>\n",
       "    </tr>\n",
       "  </thead>\n",
       "  <tbody>\n",
       "    <tr>\n",
       "      <th>0</th>\n",
       "      <td>1</td>\n",
       "      <td>0</td>\n",
       "      <td>is so sad for my APL friend.............</td>\n",
       "      <td>is so sad for my apl friend</td>\n",
       "    </tr>\n",
       "    <tr>\n",
       "      <th>1</th>\n",
       "      <td>2</td>\n",
       "      <td>0</td>\n",
       "      <td>I missed the New Moon trailer...</td>\n",
       "      <td>missed the new moon trailer</td>\n",
       "    </tr>\n",
       "    <tr>\n",
       "      <th>2</th>\n",
       "      <td>3</td>\n",
       "      <td>1</td>\n",
       "      <td>omg its already 7:30 :O</td>\n",
       "      <td>omg its already</td>\n",
       "    </tr>\n",
       "    <tr>\n",
       "      <th>3</th>\n",
       "      <td>4</td>\n",
       "      <td>0</td>\n",
       "      <td>.. Omgaga. Im sooo  im gunna CRy. I've been at this dentist since 11.. I was suposed 2 just get a crown put on (30mins)...</td>\n",
       "      <td>omgaga im soo im gunna cry ve been at this dentist since was suposed just get crown put on mins</td>\n",
       "    </tr>\n",
       "    <tr>\n",
       "      <th>4</th>\n",
       "      <td>5</td>\n",
       "      <td>0</td>\n",
       "      <td>i think mi bf is cheating on me!!!       T_T</td>\n",
       "      <td>think mi bf is cheating on me t_t</td>\n",
       "    </tr>\n",
       "    <tr>\n",
       "      <th>5</th>\n",
       "      <td>6</td>\n",
       "      <td>0</td>\n",
       "      <td>or i just worry too much?</td>\n",
       "      <td>or just worry too much</td>\n",
       "    </tr>\n",
       "    <tr>\n",
       "      <th>6</th>\n",
       "      <td>7</td>\n",
       "      <td>1</td>\n",
       "      <td>Juuuuuuuuuuuuuuuuussssst Chillin!!</td>\n",
       "      <td>juusst chillin</td>\n",
       "    </tr>\n",
       "    <tr>\n",
       "      <th>7</th>\n",
       "      <td>8</td>\n",
       "      <td>0</td>\n",
       "      <td>Sunny Again        Work Tomorrow  :-|       TV Tonight</td>\n",
       "      <td>sunny again work tomorrow negetiveemoji tv tonight</td>\n",
       "    </tr>\n",
       "    <tr>\n",
       "      <th>8</th>\n",
       "      <td>9</td>\n",
       "      <td>1</td>\n",
       "      <td>handed in my uniform today . i miss you already</td>\n",
       "      <td>handed in my uniform today miss you already</td>\n",
       "    </tr>\n",
       "    <tr>\n",
       "      <th>9</th>\n",
       "      <td>10</td>\n",
       "      <td>1</td>\n",
       "      <td>hmmmm.... i wonder how she my number @-)</td>\n",
       "      <td>hmm wonder how she my number</td>\n",
       "    </tr>\n",
       "  </tbody>\n",
       "</table>\n",
       "</div>"
      ],
      "text/plain": [
       "   ItemID  Sentiment  \\\n",
       "0  1       0           \n",
       "1  2       0           \n",
       "2  3       1           \n",
       "3  4       0           \n",
       "4  5       0           \n",
       "5  6       0           \n",
       "6  7       1           \n",
       "7  8       0           \n",
       "8  9       1           \n",
       "9  10      1           \n",
       "\n",
       "                                                                                                                          SentimentText  \\\n",
       "0                       is so sad for my APL friend.............                                                                          \n",
       "1                     I missed the New Moon trailer...                                                                                    \n",
       "2                omg its already 7:30 :O                                                                                                  \n",
       "3            .. Omgaga. Im sooo  im gunna CRy. I've been at this dentist since 11.. I was suposed 2 just get a crown put on (30mins)...   \n",
       "4           i think mi bf is cheating on me!!!       T_T                                                                                  \n",
       "5           or i just worry too much?                                                                                                     \n",
       "6         Juuuuuuuuuuuuuuuuussssst Chillin!!                                                                                              \n",
       "7         Sunny Again        Work Tomorrow  :-|       TV Tonight                                                                          \n",
       "8        handed in my uniform today . i miss you already                                                                                  \n",
       "9        hmmmm.... i wonder how she my number @-)                                                                                         \n",
       "\n",
       "                                                                                     processed_tweet  \n",
       "0   is so sad for my apl friend                                                                       \n",
       "1   missed the new moon trailer                                                                       \n",
       "2   omg its already                                                                                   \n",
       "3   omgaga im soo im gunna cry ve been at this dentist since was suposed just get crown put on mins   \n",
       "4   think mi bf is cheating on me t_t                                                                 \n",
       "5   or just worry too much                                                                            \n",
       "6   juusst chillin                                                                                    \n",
       "7   sunny again work tomorrow negetiveemoji tv tonight                                                \n",
       "8   handed in my uniform today miss you already                                                       \n",
       "9   hmm wonder how she my number                                                                      "
      ]
     },
     "execution_count": 12,
     "metadata": {},
     "output_type": "execute_result"
    }
   ],
   "source": [
    "total_data.head(10)"
   ]
  },
  {
   "cell_type": "markdown",
   "metadata": {},
   "source": [
    "### Spelling correction"
   ]
  },
  {
   "cell_type": "code",
   "execution_count": 13,
   "metadata": {
    "ExecuteTime": {
     "end_time": "2019-07-12T10:46:53.261019Z",
     "start_time": "2019-07-12T10:46:53.251011Z"
    }
   },
   "outputs": [],
   "source": [
    "# from textblob import TextBlob\n",
    "# total_data['processed_tweet'].apply(lambda x: str(TextBlob(x).correct()))\n",
    "# total_data.head(10)"
   ]
  },
  {
   "cell_type": "markdown",
   "metadata": {},
   "source": [
    "### Tokenization"
   ]
  },
  {
   "cell_type": "markdown",
   "metadata": {},
   "source": [
    "`We will be using string.split() instead of nltk.tokenize, check this `**[Stackoverflow answer](https://stackoverflow.com/a/35348340/8141330)**` for more information`"
   ]
  },
  {
   "cell_type": "code",
   "execution_count": 14,
   "metadata": {
    "ExecuteTime": {
     "end_time": "2019-07-12T10:46:53.275313Z",
     "start_time": "2019-07-12T10:46:53.264898Z"
    },
    "scrolled": false
   },
   "outputs": [],
   "source": [
    "# tokenized_tweet = total_data['processed_tweet'].apply(lambda x: x.split())\n",
    "# tokenized_tweet.head()"
   ]
  },
  {
   "cell_type": "markdown",
   "metadata": {},
   "source": [
    "### Stemming"
   ]
  },
  {
   "cell_type": "markdown",
   "metadata": {},
   "source": [
    "**The below code is commented out because *Lemmatization* gives slightly better accuracy in this sentiment analysis than *Stemming*. If you want to check, then uncomment the code below, comment the Lemmatization code below and run the whole code again.**"
   ]
  },
  {
   "cell_type": "code",
   "execution_count": 15,
   "metadata": {
    "ExecuteTime": {
     "end_time": "2019-07-12T10:46:53.288707Z",
     "start_time": "2019-07-12T10:46:53.279319Z"
    },
    "scrolled": true
   },
   "outputs": [],
   "source": [
    "# from nltk.stem.porter import *\n",
    "# stemmer = PorterStemmer()\n",
    "\n",
    "# tokenized_tweet = tokenized_tweet.apply(lambda x: [stemmer.stem(i) for i in x])\n",
    "# tokenized_tweet.head()"
   ]
  },
  {
   "cell_type": "markdown",
   "metadata": {},
   "source": [
    "### Lemmatization"
   ]
  },
  {
   "cell_type": "markdown",
   "metadata": {},
   "source": [
    "`check this article on` **[Why use lemmatization over stemming](https://stackoverflow.com/questions/771918/how-do-i-do-word-stemming-or-lemmatization)**"
   ]
  },
  {
   "cell_type": "code",
   "execution_count": 16,
   "metadata": {
    "ExecuteTime": {
     "end_time": "2019-07-12T10:46:53.309043Z",
     "start_time": "2019-07-12T10:46:53.292675Z"
    }
   },
   "outputs": [],
   "source": [
    "# from nltk.stem.wordnet import WordNetLemmatizer\n",
    "# lemmatizer = WordNetLemmatizer()\n",
    "\n",
    "# tokenized_tweet = tokenized_tweet.apply(lambda x: [lemmatizer.lemmatize(i) for i in x])\n",
    "# tokenized_tweet.head()"
   ]
  },
  {
   "cell_type": "markdown",
   "metadata": {},
   "source": [
    "### Stop words"
   ]
  },
  {
   "cell_type": "markdown",
   "metadata": {
    "ExecuteTime": {
     "end_time": "2019-07-10T11:37:30.551957Z",
     "start_time": "2019-07-10T11:37:30.538938Z"
    }
   },
   "source": [
    "`Here is a list of NLTK stop words taken from` **[this GitHub link](https://gist.github.com/sebleier/554280)**    \n",
    "<br/>\n",
    "*[\"i\", \"me\", \"my\", \"myself\", \"we\", \"our\", \"ours\", \"ourselves\",\n",
    " \"you\", \"your\", \"yours\", \"yourself\", \"yourselves\", \"he\", \"him\",\n",
    " \"his\", \"himself\", \"she\", \"her\", \"hers\", \"herself\", \"it\", \"its\",\n",
    " \"itself\", \"they\", \"them\", \"their\", \"theirs\", \"themselves\", \"what\",\n",
    " \"which\", \"who\", \"whom\", \"this\", \"that\", \"these\", \"those\", \"am\", \"is\",\n",
    " \"are\", \"was\", \"were\", \"be\", \"been\", \"being\", \"have\", \"has\", \"had\",\n",
    " \"having\", \"do\", \"does\", \"did\", \"doing\", \"a\", \"an\", \"the\", \"and\",\n",
    " \"but\", \"if\", \"or\", \"because\", \"as\", \"until\", \"while\", \"of\", \"at\",\n",
    " \"by\", \"for\", \"with\", \"about\", \"against\", \"between\", \"into\", \"through\",\n",
    " \"during\", \"before\", \"after\", \"above\", \"below\", \"to\", \"from\", \"up\",\n",
    " \"down\", \"in\", \"out\", \"on\", \"off\", \"over\", \"under\", \"again\", \"further\",\n",
    " \"then\", \"once\", \"here\", \"there\", \"when\", \"where\", \"why\", \"how\", \"all\",\n",
    " \"any\", \"both\", \"each\", \"few\", \"more\", \"most\", \"other\", \"some\", \"such\",\n",
    " \"no\", \"nor\", \"not\", \"only\", \"own\", \"same\", \"so\", \"than\", \"too\", \"very\",\n",
    " \"s\", \"t\", \"can\", \"will\", \"just\", \"don\", \"should\", \"now\"]*\n",
    "<br/>  \n",
    "*We can't use every word from here. Because some words like `\"no\"`, `\"nor\"` etc. playes significant roles in sentiment.*\n",
    "\n",
    "##### So we will be making our custom list of stopwords."
   ]
  },
  {
   "cell_type": "code",
   "execution_count": 17,
   "metadata": {
    "ExecuteTime": {
     "end_time": "2019-07-12T10:46:53.327891Z",
     "start_time": "2019-07-12T10:46:53.314558Z"
    }
   },
   "outputs": [],
   "source": [
    "# stop_words = {\"i\", \"me\", \"my\", \"myself\", \"we\", \"our\", \"ours\", \"ourselves\",\n",
    "#             \"you\", \"your\", \"yours\", \"yourself\", \"yourselves\", \"he\", \"him\",\n",
    "#             \"his\", \"himself\", \"she\", \"her\", \"hers\", \"herself\", \"it\", \"its\",\n",
    "#             \"itself\", \"they\", \"them\", \"their\", \"theirs\", \"themselves\", \"what\",\n",
    "#             \"which\", \"who\", \"whom\", \"this\", \"that\", \"these\", \"those\", \"am\", \"is\",\n",
    "#             \"are\", \"was\", \"were\", \"be\", \"been\", \"being\", \"have\", \"has\", \"had\",\n",
    "#             \"having\", \"do\", \"does\", \"did\", \"doing\", \"a\", \"an\", \"the\", \"and\",\n",
    "#             \"but\", \"if\", \"or\", \"because\", \"as\", \"until\", \"while\", \"of\", \"at\",\n",
    "#             \"by\", \"for\", \"with\", \"about\", \"against\", \"between\", \"into\", \"through\",\n",
    "#             \"during\", \"before\", \"after\", \"above\", \"below\", \"to\", \"from\", \"up\",\n",
    "#             \"down\", \"in\", \"out\", \"on\", \"off\", \"over\", \"under\", \"again\", \"further\",\n",
    "#             \"then\", \"once\", \"here\", \"there\", \"when\", \"where\", \"why\", \"how\", \"all\",\n",
    "#             \"any\", \"both\", \"each\", \"few\", \"more\", \"most\", \"other\", \"some\", \"such\",\n",
    "#             \"only\", \"own\", \"same\", \"so\", \"than\", \"too\", \"very\",\n",
    "#             \"can\", \"will\", \"just\", \"should\", \"now\"}"
   ]
  },
  {
   "cell_type": "markdown",
   "metadata": {
    "ExecuteTime": {
     "end_time": "2019-07-10T13:14:53.719686Z",
     "start_time": "2019-07-10T13:14:53.715727Z"
    }
   },
   "source": [
    "##### Below is the in built stop words from nltk. But we can't use them. If you still want to see the words, You can uncomment the lines below\n"
   ]
  },
  {
   "cell_type": "code",
   "execution_count": 18,
   "metadata": {
    "ExecuteTime": {
     "end_time": "2019-07-12T10:46:53.346243Z",
     "start_time": "2019-07-12T10:46:53.334835Z"
    }
   },
   "outputs": [],
   "source": [
    "# nltk.download(\"stopwords\")\n",
    "# from nltk.corpus import stopwords\n",
    "# stop_words = set(stopwords.words('english'))\n",
    "# stop_words, nltk.corpus.stopwords.words('english')"
   ]
  },
  {
   "cell_type": "markdown",
   "metadata": {},
   "source": [
    "### Stiching"
   ]
  },
  {
   "cell_type": "code",
   "execution_count": 19,
   "metadata": {
    "ExecuteTime": {
     "end_time": "2019-07-12T10:46:53.364595Z",
     "start_time": "2019-07-12T10:46:53.349715Z"
    }
   },
   "outputs": [],
   "source": [
    "# for i in range(len(tokenized_tweet)):\n",
    "    \n",
    "#     # Below code is used for no stop word removal\n",
    "#     tokenized_tweet[i] = ' '.join(tokenized_tweet[i]) \n",
    "    \n",
    "#     # Used for stop word removal \n",
    "#     # (Below is commented out as sentiment analysis is giving better accuracy without removing stop words.\n",
    "#     # If you still want to check, comment out the above line, uncomment the line below and run the code again.)\n",
    "    \n",
    "#     # tokenized_tweet[i] = ' '.join([word for word in tokenized_tweet[i] if word not in stop_words])  \n",
    "    \n",
    "\n",
    "# total_data['processed_tweet'] = tokenized_tweet\n",
    "# total_data.head()"
   ]
  },
  {
   "cell_type": "markdown",
   "metadata": {},
   "source": [
    "# 2) Most used words"
   ]
  },
  {
   "cell_type": "code",
   "execution_count": 20,
   "metadata": {
    "ExecuteTime": {
     "end_time": "2019-07-12T10:46:53.593904Z",
     "start_time": "2019-07-12T10:46:53.367571Z"
    }
   },
   "outputs": [
    {
     "data": {
      "image/png": "[encoded data removed]",
      "text/plain": [
       "<Figure size 432x288 with 1 Axes>"
      ]
     },
     "metadata": {},
     "output_type": "display_data"
    }
   ],
   "source": [
    "sentiments = ['Positive Sentiment', 'Negetive Sentiment'] \n",
    "slices = [(total_data[sentiment] != 0).sum(), (total_data[sentiment] == 0).sum()] \n",
    "colors = ['g', 'r'] \n",
    "plt.pie(slices, labels = sentiments, colors=colors, startangle=90, shadow = True,\n",
    "        explode = (0, 0.1), radius = 1.5, autopct = '%1.2f%%') \n",
    "plt.legend()\n",
    "plt.show() "
   ]
  },
  {
   "cell_type": "markdown",
   "metadata": {},
   "source": [
    "## 2.2) Most used positive words"
   ]
  },
  {
   "cell_type": "code",
   "execution_count": 21,
   "metadata": {
    "ExecuteTime": {
     "end_time": "2019-07-12T10:46:53.602939Z",
     "start_time": "2019-07-12T10:46:53.597341Z"
    }
   },
   "outputs": [],
   "source": [
    "# positive_words =' '.join([text for text in total_data['processed_tweet'][total_data[sentiment] == 1]])\n",
    "# wordcloud = WordCloud(width=800, height=500, random_state=21,\n",
    "#             max_font_size=110,background_color=\"rgba(255, 255, 255, 0)\"\n",
    "#             , mode=\"RGBA\").generate(positive_words)\n",
    "# plt.figure(figsize=(10, 7))\n",
    "# plt.imshow(wordcloud, interpolation=\"bilinear\")\n",
    "# plt.axis('off')\n",
    "# plt.show()"
   ]
  },
  {
   "cell_type": "markdown",
   "metadata": {},
   "source": [
    "## 2.3) Most used negetive words"
   ]
  },
  {
   "cell_type": "code",
   "execution_count": 22,
   "metadata": {
    "ExecuteTime": {
     "end_time": "2019-07-12T10:46:53.614733Z",
     "start_time": "2019-07-12T10:46:53.606765Z"
    }
   },
   "outputs": [],
   "source": [
    "# negetive_words =' '.join([text for text in total_data['processed_tweet'][total_data[sentiment] == 0]])\n",
    "# wordcloud = WordCloud(width=800, height=500, random_state=21, \n",
    "#             max_font_size=110,background_color=\"rgba(255, 255, 255, 0)\"\n",
    "#             , mode=\"RGBA\").generate(negetive_words)\n",
    "# plt.figure(figsize=(10, 7))\n",
    "# plt.imshow(wordcloud, interpolation=\"bilinear\")\n",
    "# plt.axis('off')\n",
    "# plt.show()"
   ]
  },
  {
   "cell_type": "markdown",
   "metadata": {},
   "source": [
    "#### See the word `lol`. It is used both in positive and negetive(sarcastic) sentiments. We still can't classify sarcasm."
   ]
  },
  {
   "cell_type": "markdown",
   "metadata": {},
   "source": [
    "# 3) Feature extraction (vectorization)"
   ]
  },
  {
   "cell_type": "markdown",
   "metadata": {},
   "source": [
    "`check this article on` **[How to Prepare Text Data for Machine Learning with scikit-learn](https://machinelearningmastery.com/prepare-text-data-machine-learning-scikit-learn/)**"
   ]
  },
  {
   "cell_type": "markdown",
   "metadata": {},
   "source": [
    "`check this article on` **[countvectorizer and tf-idf](https://www.kaggle.com/divsinha/sentiment-analysis-countvectorizer-tf-idf)**"
   ]
  },
  {
   "cell_type": "markdown",
   "metadata": {},
   "source": [
    "*Tf-idf* is different from *CountVectorizer*. *CountVectorizer* gives equal weightage to all the words, i.e. a word is converted to a column (in a dataframe for example) and for each document, it is equal to 1 if it is present in that doc else 0. \n",
    "Apart from giving this information, *Tf-idf* says how important that word is to that document with respect to the corpus."
   ]
  },
  {
   "cell_type": "markdown",
   "metadata": {},
   "source": [
    "## 3.1) Count vectorizer"
   ]
  },
  {
   "cell_type": "markdown",
   "metadata": {},
   "source": [
    "As we all know, all machine learning algorithms are good with numbers; we have to extract or convert the text data into numbers without losing much of the information. One way to do such transformation is *Bag-Of-Words (BOW)* which gives a number to each word but that is very inefficient. So, a way to do it is by *CountVectorizer*: it counts the number of words in the document i.e it converts a collection of text documents to a matrix of the counts of occurences of each word in the document."
   ]
  },
  {
   "cell_type": "code",
   "execution_count": 23,
   "metadata": {
    "ExecuteTime": {
     "end_time": "2019-07-12T10:47:09.915299Z",
     "start_time": "2019-07-12T10:46:53.621645Z"
    }
   },
   "outputs": [
    {
     "data": {
      "text/plain": [
       "<99989x1195309 sparse matrix of type '<class 'numpy.int64'>'\n",
       "\twith 3050262 stored elements in Compressed Sparse Row format>"
      ]
     },
     "execution_count": 23,
     "metadata": {},
     "output_type": "execute_result"
    }
   ],
   "source": [
    "from sklearn.feature_extraction.text import CountVectorizer\n",
    "\n",
    "count_vectorizer = CountVectorizer(ngram_range=(1,3))\n",
    "final_vectorized_data = count_vectorizer.fit_transform(total_data['processed_tweet'])  \n",
    "final_vectorized_data"
   ]
  },
  {
   "cell_type": "markdown",
   "metadata": {},
   "source": [
    "## 3.2) Tf-Idf vectorizer"
   ]
  },
  {
   "cell_type": "markdown",
   "metadata": {},
   "source": [
    "*TF-IDF (stands for Term-Frequency-Inverse-Document Frequency)* weights down the common words occuring in almost all the documents and give more importance to the words that appear in a subset of documents. *TF-IDF* works by penalising these common words by assigning them lower weights while giving importance to some rare words in a particular document. ***Rare terms are more informative than frequent terms.***\n",
    "\n",
    "![](assets/tfidf.png)\n",
    "\n",
    "<br/>"
   ]
  },
  {
   "cell_type": "markdown",
   "metadata": {},
   "source": [
    "**The below code is commented out because *CountVectorizer* gives better accuracy in this sentiment analysis than *tf-idf*. If you want to check, then uncomment the code below, comment the countVectorizer code above and run the whole code again.**  \n",
    "<br/>  \n"
   ]
  },
  {
   "cell_type": "code",
   "execution_count": 24,
   "metadata": {
    "ExecuteTime": {
     "end_time": "2019-07-12T10:47:09.945542Z",
     "start_time": "2019-07-12T10:47:09.932634Z"
    }
   },
   "outputs": [],
   "source": [
    "# from sklearn.feature_extraction.text import TfidfVectorizer \n",
    "\n",
    "# tf_idf_vectorizer = TfidfVectorizer(use_idf=True,ngram_range=(1,3))\n",
    "# final_vectorized_data = tf_idf_vectorizer.fit_transform(total_data['processed_tweet'])\n",
    "\n",
    "# final_vectorized_data"
   ]
  },
  {
   "cell_type": "markdown",
   "metadata": {},
   "source": [
    "# 4) Splitting"
   ]
  },
  {
   "cell_type": "markdown",
   "metadata": {},
   "source": [
    "##### Splitting train data to test accuracy"
   ]
  },
  {
   "cell_type": "code",
   "execution_count": 25,
   "metadata": {
    "ExecuteTime": {
     "end_time": "2019-07-12T10:47:10.346841Z",
     "start_time": "2019-07-12T10:47:09.950488Z"
    }
   },
   "outputs": [],
   "source": [
    "from sklearn.model_selection import train_test_split\n",
    "X_train, X_test, y_train, y_test = train_test_split(final_vectorized_data, total_data[sentiment],\n",
    "                                                    test_size=0.2, random_state=69)  "
   ]
  },
  {
   "cell_type": "markdown",
   "metadata": {},
   "source": [
    "##### Printing splitted dataset sizes"
   ]
  },
  {
   "cell_type": "code",
   "execution_count": 26,
   "metadata": {
    "ExecuteTime": {
     "end_time": "2019-07-12T10:47:10.363249Z",
     "start_time": "2019-07-12T10:47:10.351901Z"
    }
   },
   "outputs": [
    {
     "name": "stdout",
     "output_type": "stream",
     "text": [
      "X_train_shape :  (79991, 1195309)\n",
      "X_test_shape :  (19998, 1195309)\n",
      "y_train_shape :  (79991,)\n",
      "y_test_shape :  (19998,)\n"
     ]
    }
   ],
   "source": [
    "print(\"X_train_shape : \",X_train.shape)\n",
    "print(\"X_test_shape : \",X_test.shape)\n",
    "print(\"y_train_shape : \",y_train.shape)\n",
    "print(\"y_test_shape : \",y_test.shape)"
   ]
  },
  {
   "cell_type": "markdown",
   "metadata": {},
   "source": [
    "# 5) Train and predict"
   ]
  },
  {
   "cell_type": "markdown",
   "metadata": {},
   "source": [
    "## 5.1) Naive_bayes"
   ]
  },
  {
   "cell_type": "markdown",
   "metadata": {},
   "source": [
    "### Bayes theorem :\n",
    "![](assets/bayes_formula.jpg)"
   ]
  },
  {
   "cell_type": "markdown",
   "metadata": {
    "ExecuteTime": {
     "end_time": "2019-07-07T16:05:19.932965Z",
     "start_time": "2019-07-07T16:05:19.926973Z"
    }
   },
   "source": [
    "### There are some popular classifiers under Naive Bayes\n",
    "* **Bernoulli Naive Bayes**\n",
    "* **Gaussian Naive Bayes classifier**\n",
    "* **Multinomial Naive Bayes**"
   ]
  },
  {
   "cell_type": "markdown",
   "metadata": {},
   "source": [
    "#### We will use Multinomial Naive Bayes classifier"
   ]
  },
  {
   "cell_type": "code",
   "execution_count": 27,
   "metadata": {
    "ExecuteTime": {
     "end_time": "2019-07-12T10:47:10.619110Z",
     "start_time": "2019-07-12T10:47:10.369202Z"
    }
   },
   "outputs": [],
   "source": [
    "from sklearn.naive_bayes import MultinomialNB  # Naive Bayes Classifier\n",
    "\n",
    "model_naive = MultinomialNB().fit(X_train, y_train) \n",
    "predicted_naive = model_naive.predict(X_test)"
   ]
  },
  {
   "cell_type": "markdown",
   "metadata": {},
   "source": [
    "##### Print Confusion matrix"
   ]
  },
  {
   "cell_type": "code",
   "execution_count": 28,
   "metadata": {
    "ExecuteTime": {
     "end_time": "2019-07-12T10:47:10.911094Z",
     "start_time": "2019-07-12T10:47:10.625063Z"
    }
   },
   "outputs": [
    {
     "data": {
      "image/png": "[encoded data removed]",
      "text/plain": [
       "<Figure size 432x288 with 1 Axes>"
      ]
     },
     "metadata": {
      "needs_background": "light"
     },
     "output_type": "display_data"
    }
   ],
   "source": [
    "from sklearn.metrics import confusion_matrix\n",
    "\n",
    "mat = confusion_matrix(y_test, predicted_naive)\n",
    "sns.heatmap(mat.T, annot=True, fmt='d', cbar=False)\n",
    "plt.title('Confusion Matrix for Naive Bayes')\n",
    "plt.xlabel('true label')\n",
    "plt.ylabel('predicted label')\n",
    "plt.show()"
   ]
  },
  {
   "cell_type": "markdown",
   "metadata": {},
   "source": [
    "## 5.2) Support Vector Machine"
   ]
  },
  {
   "cell_type": "code",
   "execution_count": 30,
   "metadata": {
    "ExecuteTime": {
     "end_time": "2019-07-12T10:47:49.562570Z",
     "start_time": "2019-07-12T10:47:49.540776Z"
    }
   },
   "outputs": [
    {
     "ename": "TypeError",
     "evalue": "__init__() got an unexpected keyword argument 'n_jobs'",
     "output_type": "error",
     "traceback": [
      "\u001b[1;31m---------------------------------------------------------------------------\u001b[0m",
      "\u001b[1;31mTypeError\u001b[0m                                 Traceback (most recent call last)",
      "\u001b[1;32m<ipython-input-30-7ad432d6d671>\u001b[0m in \u001b[0;36m<module>\u001b[1;34m\u001b[0m\n\u001b[0;32m      1\u001b[0m \u001b[1;32mfrom\u001b[0m \u001b[0msklearn\u001b[0m\u001b[1;33m.\u001b[0m\u001b[0msvm\u001b[0m \u001b[1;32mimport\u001b[0m \u001b[0mSVC\u001b[0m \u001b[1;31m# \"Support Vector Classifier\"\u001b[0m\u001b[1;33m\u001b[0m\u001b[1;33m\u001b[0m\u001b[0m\n\u001b[0;32m      2\u001b[0m \u001b[1;33m\u001b[0m\u001b[0m\n\u001b[1;32m----> 3\u001b[1;33m \u001b[0msvm\u001b[0m \u001b[1;33m=\u001b[0m \u001b[0mSVC\u001b[0m\u001b[1;33m(\u001b[0m\u001b[0mkernel\u001b[0m\u001b[1;33m=\u001b[0m\u001b[1;34m'linear'\u001b[0m\u001b[1;33m,\u001b[0m\u001b[0mn_jobs\u001b[0m\u001b[1;33m=\u001b[0m\u001b[1;33m-\u001b[0m\u001b[1;36m1\u001b[0m\u001b[1;33m)\u001b[0m\u001b[1;33m\u001b[0m\u001b[1;33m\u001b[0m\u001b[0m\n\u001b[0m\u001b[0;32m      4\u001b[0m \u001b[1;33m\u001b[0m\u001b[0m\n\u001b[0;32m      5\u001b[0m \u001b[0mmodel_svm\u001b[0m \u001b[1;33m=\u001b[0m \u001b[0msvm\u001b[0m\u001b[1;33m.\u001b[0m\u001b[0mfit\u001b[0m\u001b[1;33m(\u001b[0m\u001b[0mX_train\u001b[0m\u001b[1;33m,\u001b[0m \u001b[0my_train\u001b[0m\u001b[1;33m)\u001b[0m\u001b[1;33m\u001b[0m\u001b[1;33m\u001b[0m\u001b[0m\n",
      "\u001b[1;31mTypeError\u001b[0m: __init__() got an unexpected keyword argument 'n_jobs'"
     ]
    }
   ],
   "source": [
    "# from sklearn.svm import SVC # \"Support Vector Classifier\" \n",
    "\n",
    "# svm = SVC(kernel='linear')\n",
    "\n",
    "# model_svm = svm.fit(X_train, y_train)\n",
    "# predicted_svm = model_svm.predict(X_test)"
   ]
  },
  {
   "cell_type": "markdown",
   "metadata": {},
   "source": [
    "##### Print Confusion matrix"
   ]
  },
  {
   "cell_type": "code",
   "execution_count": 31,
   "metadata": {
    "ExecuteTime": {
     "end_time": "2019-07-12T11:15:40.201884Z",
     "start_time": "2019-07-12T11:15:40.180060Z"
    }
   },
   "outputs": [
    {
     "ename": "NameError",
     "evalue": "name 'predicted_svm' is not defined",
     "output_type": "error",
     "traceback": [
      "\u001b[1;31m---------------------------------------------------------------------------\u001b[0m",
      "\u001b[1;31mNameError\u001b[0m                                 Traceback (most recent call last)",
      "\u001b[1;32m<ipython-input-31-3f243ba70e7e>\u001b[0m in \u001b[0;36m<module>\u001b[1;34m\u001b[0m\n\u001b[1;32m----> 1\u001b[1;33m \u001b[0mmat\u001b[0m \u001b[1;33m=\u001b[0m \u001b[0mconfusion_matrix\u001b[0m\u001b[1;33m(\u001b[0m\u001b[0my_test\u001b[0m\u001b[1;33m,\u001b[0m \u001b[0mpredicted_svm\u001b[0m\u001b[1;33m)\u001b[0m  \u001b[1;31m## Support Vector classifier\u001b[0m\u001b[1;33m\u001b[0m\u001b[1;33m\u001b[0m\u001b[0m\n\u001b[0m\u001b[0;32m      2\u001b[0m \u001b[0msns\u001b[0m\u001b[1;33m.\u001b[0m\u001b[0mheatmap\u001b[0m\u001b[1;33m(\u001b[0m\u001b[0mmat\u001b[0m\u001b[1;33m.\u001b[0m\u001b[0mT\u001b[0m\u001b[1;33m,\u001b[0m \u001b[0mannot\u001b[0m\u001b[1;33m=\u001b[0m\u001b[1;32mTrue\u001b[0m\u001b[1;33m,\u001b[0m \u001b[0mfmt\u001b[0m\u001b[1;33m=\u001b[0m\u001b[1;34m'd'\u001b[0m\u001b[1;33m,\u001b[0m \u001b[0mcbar\u001b[0m\u001b[1;33m=\u001b[0m\u001b[1;32mFalse\u001b[0m\u001b[1;33m)\u001b[0m\u001b[1;33m\u001b[0m\u001b[1;33m\u001b[0m\u001b[0m\n\u001b[0;32m      3\u001b[0m \u001b[0mplt\u001b[0m\u001b[1;33m.\u001b[0m\u001b[0mtitle\u001b[0m\u001b[1;33m(\u001b[0m\u001b[1;34m'Confusion Matrix for SVM'\u001b[0m\u001b[1;33m)\u001b[0m\u001b[1;33m\u001b[0m\u001b[1;33m\u001b[0m\u001b[0m\n\u001b[0;32m      4\u001b[0m \u001b[0mplt\u001b[0m\u001b[1;33m.\u001b[0m\u001b[0mxlabel\u001b[0m\u001b[1;33m(\u001b[0m\u001b[1;34m'true label'\u001b[0m\u001b[1;33m)\u001b[0m\u001b[1;33m\u001b[0m\u001b[1;33m\u001b[0m\u001b[0m\n\u001b[0;32m      5\u001b[0m \u001b[0mplt\u001b[0m\u001b[1;33m.\u001b[0m\u001b[0mylabel\u001b[0m\u001b[1;33m(\u001b[0m\u001b[1;34m'predicted label'\u001b[0m\u001b[1;33m)\u001b[0m\u001b[1;33m\u001b[0m\u001b[1;33m\u001b[0m\u001b[0m\n",
      "\u001b[1;31mNameError\u001b[0m: name 'predicted_svm' is not defined"
     ]
    }
   ],
   "source": [
    "# mat = confusion_matrix(y_test, predicted_svm)  ## Support Vector classifier\n",
    "# sns.heatmap(mat.T, annot=True, fmt='d', cbar=False)\n",
    "# plt.title('Confusion Matrix for SVM')\n",
    "# plt.xlabel('true label')\n",
    "# plt.ylabel('predicted label')\n",
    "# plt.show()"
   ]
  },
  {
   "cell_type": "markdown",
   "metadata": {},
   "source": [
    "## 5.3) Random Forest Classifier"
   ]
  },
  {
   "cell_type": "code",
   "execution_count": null,
   "metadata": {
    "ExecuteTime": {
     "end_time": "2019-07-12T10:47:11.273038Z",
     "start_time": "2019-07-12T10:46:20.816Z"
    },
    "scrolled": false
   },
   "outputs": [],
   "source": [
    "from sklearn.ensemble import RandomForestClassifier # Random forest classifier\n",
    "\n",
    "forest = RandomForestClassifier(n_estimators = 100,verbose=3,n_jobs=-1)\n",
    "\n",
    "model_forest = forest.fit(X_train, y_train)\n",
    "predicted_forest = model_forest.predict(X_test)"
   ]
  },
  {
   "cell_type": "markdown",
   "metadata": {},
   "source": [
    "##### Print Confusion matrix"
   ]
  },
  {
   "cell_type": "code",
   "execution_count": null,
   "metadata": {
    "ExecuteTime": {
     "end_time": "2019-07-12T10:47:11.274790Z",
     "start_time": "2019-07-12T10:46:20.820Z"
    }
   },
   "outputs": [],
   "source": [
    "mat = confusion_matrix(y_test, predicted_forest)\n",
    "sns.heatmap(mat.T, annot=True, fmt='d', cbar=False)\n",
    "plt.title('Confusion Matrix for Random Forest')\n",
    "plt.xlabel('true label')\n",
    "plt.ylabel('predicted label')\n",
    "plt.show()"
   ]
  },
  {
   "cell_type": "markdown",
   "metadata": {},
   "source": [
    "## Find out accuracy of our prediction"
   ]
  },
  {
   "cell_type": "code",
   "execution_count": null,
   "metadata": {
    "ExecuteTime": {
     "end_time": "2019-07-12T10:47:11.278759Z",
     "start_time": "2019-07-12T10:46:20.824Z"
    },
    "scrolled": true
   },
   "outputs": [],
   "source": [
    "from sklearn.metrics import accuracy_score\n",
    "\n",
    "score = accuracy_score(predicted_naive, y_test)\n",
    "print(\"Accuracy with Naive-bayes: \",score_naive)\n",
    "\n",
    "score_svm = accuracy_score(predicted_svm, y_test)\n",
    "print(\"Accuracy with SVM: \",score_svm)\n",
    "\n",
    "score_forest = accuracy_score(predicted_forest, y_test)\n",
    "print(\"Accuracy with Random Forest: \",score_forest)"
   ]
  },
  {
   "cell_type": "markdown",
   "metadata": {},
   "source": [
    "# 6) Precision, Recall, and Accuracy\n",
    "\n",
    "##### Precision, recall, and accuracy are standard metrics used to evaluate the performance of a classifier.\n",
    "\n",
    "* Precision measures how many texts were predicted correctly as belonging to a given category out of all of the texts that were predicted (correctly and incorrectly) as belonging to the category.\n",
    "\n",
    "* Recall measures how many texts were predicted correctly as belonging to a given category out of all the texts that should have been predicted as belonging to the category. We also know that the more data we feed our classifiers with, the better recall will be.\n",
    "\n",
    "* Accuracy measures how many texts were predicted correctly (both as belonging to a category and not belonging to the category) out of all of the texts in the corpus.\n",
    "\n",
    "##### Most frequently, precision and recall are used to measure performance since accuracy alone does not say much about how good or bad a classifier is."
   ]
  },
  {
   "cell_type": "code",
   "execution_count": null,
   "metadata": {
    "ExecuteTime": {
     "end_time": "2019-07-12T10:47:11.281238Z",
     "start_time": "2019-07-12T10:46:20.828Z"
    },
    "scrolled": true
   },
   "outputs": [],
   "source": [
    "from sklearn.metrics import classification_report\n",
    "print(classification_report(y_test, predicted))"
   ]
  },
  {
   "cell_type": "markdown",
   "metadata": {
    "ExecuteTime": {
     "end_time": "2019-07-10T16:02:41.558883Z",
     "start_time": "2019-07-10T16:02:41.549847Z"
    }
   },
   "source": [
    "`Check this link to learn` **[ROC, precision & recall curves](https://machinelearningmastery.com/roc-curves-and-precision-recall-curves-for-classification-in-python/)**"
   ]
  },
  {
   "cell_type": "markdown",
   "metadata": {},
   "source": [
    "### Drawing ROC curve"
   ]
  },
  {
   "cell_type": "code",
   "execution_count": null,
   "metadata": {
    "ExecuteTime": {
     "end_time": "2019-07-12T10:47:11.284215Z",
     "start_time": "2019-07-12T10:46:20.839Z"
    },
    "scrolled": false
   },
   "outputs": [],
   "source": [
    "from sklearn.metrics import roc_curve\n",
    "from sklearn.metrics import auc\n",
    "\n",
    "# calculate the fpr and tpr for all thresholds of the classification\n",
    "probs = model.predict_proba(X_test)\n",
    "preds = probs[:,1]\n",
    "fpr, tpr, threshold = roc_curve(y_test, preds)\n",
    "roc_auc = auc(fpr, tpr)\n",
    "# plt.figure(dpi=1200)                         # to plot high quality graph\n",
    "plt.title('Receiver Operating Characteristic')\n",
    "plt.plot(fpr, tpr, 'b', label = 'AUC = %0.2f' % roc_auc)\n",
    "plt.legend(loc = 'lower right')\n",
    "plt.plot([0, 1], [0, 1],'r--')\n",
    "plt.ylabel('True Positive Rate', color='g')\n",
    "plt.xlabel('False Positive Rate', color='r')\n",
    "plt.show()"
   ]
  },
  {
   "cell_type": "markdown",
   "metadata": {
    "ExecuteTime": {
     "end_time": "2019-07-10T16:00:09.131610Z",
     "start_time": "2019-07-10T16:00:09.120853Z"
    }
   },
   "source": [
    "***Area Under the Curve of anything greater than `0.80` with real life data is not bad***"
   ]
  },
  {
   "cell_type": "markdown",
   "metadata": {},
   "source": [
    "# 7) Results  (Accuracy)"
   ]
  },
  {
   "cell_type": "markdown",
   "metadata": {},
   "source": [
    "## 7.1) With CountVectorizer"
   ]
  },
  {
   "cell_type": "markdown",
   "metadata": {},
   "source": [
    "|   Accuracy Table   \t|      Stemming      \t|     Lemmatizing    \t|\n",
    "|:------------------:\t|:------------------:\t|:------------------:\t|\n",
    "| Without Stop Words \t|  0.755025502550255 \t|  0.757025702570257 \t|\n",
    "|   With Stop Words  \t| 0.7477747774777478 \t| 0.7483748374837483 \t|"
   ]
  },
  {
   "cell_type": "markdown",
   "metadata": {
    "ExecuteTime": {
     "end_time": "2019-07-10T12:32:04.905420Z",
     "start_time": "2019-07-10T12:32:04.901252Z"
    }
   },
   "source": [
    "## 7.2) With Tf-Idf Vectorizer"
   ]
  },
  {
   "cell_type": "markdown",
   "metadata": {
    "ExecuteTime": {
     "end_time": "2019-07-10T12:32:20.888578Z",
     "start_time": "2019-07-10T12:32:20.875740Z"
    }
   },
   "source": [
    "|   Accuracy Table   \t|      Stemming      \t|     Lemmatizing    \t|\n",
    "|:------------------:\t|:------------------:\t|:------------------:\t|\n",
    "| Without Stop Words \t| 0.7435743574357436 \t| 0.7403740374037404 \t|\n",
    "|   With Stop Words  \t| 0.7383738373837384 \t| 0.7456245624562456 \t|"
   ]
  },
  {
   "cell_type": "markdown",
   "metadata": {},
   "source": [
    "# 8) Conclusion"
   ]
  },
  {
   "cell_type": "markdown",
   "metadata": {},
   "source": [
    "*Here we can see this is the hierarchy of accuracy rate of 3 combinations (Vectorizer, stop words, normalization). Sorted as Decreasing order of accuracy.*\n",
    "\n"
   ]
  },
  {
   "cell_type": "markdown",
   "metadata": {},
   "source": [
    "| Normalization \t| Stop Words \t| Vectorizer \t|      Accuracy      \t|\n",
    "|:-------------:\t|:----------:\t|:----------:\t|:------------------:\t|\n",
    "|     None        \t|     No     \t|    Count   \t| 0.7601260126012601 \t|\n",
    "|  Lemmatizing  \t|     No     \t|    Count   \t|  0.757025702570257 \t|\n",
    "|    Stemming   \t|     No     \t|    Count   \t|  0.755025502550255 \t|\n",
    "|  Lemmatizing  \t|     Yes    \t|    Count   \t| 0.7483748374837483 \t|\n",
    "|     None        \t|     No     \t|   Tf-Idf   \t| 0.7480748074807481 \t|\n",
    "|    Stemming   \t|     Yes    \t|    Count   \t| 0.7477747774777478 \t|\n",
    "|  Lemmatizing  \t|     Yes    \t|   Tf-Idf   \t| 0.7456245624562456 \t|\n",
    "|    Stemming   \t|     No     \t|   Tf-Idf   \t| 0.7435743574357436 \t|\n",
    "|  Lemmatizing  \t|     No     \t|   Tf-Idf   \t| 0.7403740374037404 \t|\n",
    "|    Stemming   \t|     Yes    \t|   Tf-Idf   \t| 0.7383738373837384 \t|"
   ]
  },
  {
   "cell_type": "markdown",
   "metadata": {
    "ExecuteTime": {
     "end_time": "2019-07-10T13:47:14.217935Z",
     "start_time": "2019-07-10T13:47:14.205966Z"
    }
   },
   "source": [
    "### So here we see the best combination for sentiment analysis with this dataset is using\n",
    "* **Without normalization**\n",
    "* **Without stop words**\n",
    "* **Count Vectorizer**\n",
    "\n",
    "***Leaderboard Highest : 0.79249***  \n",
    "***This Naive model : 0.76683***\n",
    "\n",
    "*For document analysis the best combination will include lemmatization, stop words, but in sentiment analysis, they aren't providing edge over the raw datas.*"
   ]
  },
  {
   "cell_type": "markdown",
   "metadata": {},
   "source": [
    "# 9) Acknowledgements\n",
    "\n",
    "#### Datasets taken from\n",
    "* **[Kaggle Twitter dataset](https://www.kaggle.com/c/twitter-sentiment-analysis2/data)**\n",
    "\n",
    "\n",
    "#### Must Read\n",
    "* **[Towards Data Science](https://towardsdatascience.com/creating-the-twitter-sentiment-analysis-program-in-python-with-naive-bayes-classification-672e5589a7ed)**\n",
    "* **[Analytics Vidya](https://www.analyticsvidhya.com/blog/2018/07/hands-on-sentiment-analysis-dataset-python/)**\n",
    "* **[Project report on Github](https://github.com/abdulfatir/twitter-sentiment-analysis/blob/master/docs/report.pdf)**\n",
    "* **[Medium](https://medium.com/@martinpella/naive-bayes-for-sentiment-analysis-49b37db18bf8)**\n",
    "* **[Stackabuse](https://stackabuse.com/the-naive-bayes-algorithm-in-python-with-scikit-learn/)**\n",
    "* **[Geeksforgeeks](https://www.geeksforgeeks.org/graph-plotting-in-python-set-1/)**"
   ]
  }
 ],
 "metadata": {
  "gist": {
   "data": {
    "description": "twitter-sentiment-analysis.ipynb",
    "public": false
   },
   "id": ""
  },
  "kernelspec": {
   "display_name": "Python 3",
   "language": "python",
   "name": "python3"
  },
  "language_info": {
   "codemirror_mode": {
    "name": "ipython",
    "version": 3
   },
   "file_extension": ".py",
   "mimetype": "text/x-python",
   "name": "python",
   "nbconvert_exporter": "python",
   "pygments_lexer": "ipython3",
   "version": "3.6.8"
  }
 },
 "nbformat": 4,
 "nbformat_minor": 2
}
